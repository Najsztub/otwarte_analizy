# MN 21/10/23

# Pakiety
library(data.table)
library(magrittr)
library(ggplot2)
library(gridExtra)

library(knitr)
library(kableExtra)

# Oprócz tego korzystam httr, jsonlite oraz IRkernel do połaczenia z Jupyter

######################################################################
# Używam PostreSQL
library(RPostgreSQL)


# Parametry połączenia z serwerem PostgreSQL zmiennych środowiskowych
# Można zastąpić str
db_param <- list(
  user = Sys.getenv("DB_USER"),
  pass = Sys.getenv("DB_PASS"),
  base = Sys.getenv("DB_BASE"),
  host = Sys.getenv("DB_HOSTNAME")
)
drv <- dbDriver("PostgreSQL")
con <- dbConnect(
    drv, 
    user = db_param$user,
    password = db_param$pass, 
    dbname = db_param$base, host = db_param$host

)

# Który miesiąc max w 2023
MAX_23 <- 7

GetQuery <- function(x) dbGetQuery(con, x) %>% setDT()

######################################################################
# Ustawienia wyświetlania dla ggplot
theme_set(theme_bw())  
theme_update(legend.position="bottom", text = element_text(size = 20))
# Kolory: https://www.datanovia.com/en/blog/ggplot-colors-best-tricks-you-will-love/
# The palette with grey:
cbp1 <- c("#999999", "#E69F00", "#56B4E9", "#009E73",
          "#F0E442", "#0072B2", "#D55E00", "#CC79A7")
color_fill <- scale_fill_manual(values = cbp1)
# To use for line and point colors, add
color_color <- scale_colour_manual(values=cbp1)

options(repr.plot.width = 16, repr.plot.height = 7, repr.plot.scale = 1.5)

# Dodatkowe funkcje
pperc <- function(x) sprintf("%1.1f%%", 100*x)

# Rendering tabeli
Table <- function(zbior, ...) {
    zbior %>%
    kable(...) %>%
    as.character() %>%
    IRdisplay::display_html()
}





######################################################################
# Obliczenia

lata <- 2015:2023

wydatki_po_cz <- lapply(lata, function(rok) {
    miesiac <- 12
    if (rok == 2023) miesiac <- MAX_23
    "
    select 
        rok,
        czesc,
        sum(wykonanie + wydatki_wygasle)/1e9 wyd_mld,
        sum(plan)/1e9 wyd_plan_mld
    from trezor.rb28 r 
    left join (
        select distinct on (id_dysp)
        id_dysp,
        id_dysp_nadrz,
        nazwa
        from trezor.slownik_dysponenci
        where date_part('year', to_date(aktywny_od, 'YYYY-MM-DD')) <= %1$s and 
        	(date_part('year', to_date(aktywny_do, 'YYYY-MM-DD')) >= %1$s or aktywny_do = '')
        order by id_dysp, aktywny_od desc
    ) sld
    on r.id_dysp = sld.id_dysp
    where rok = %1$s and miesiac = %2$s and id_dysp_nadrz = 1
    group by rok, czesc
    " %>% sprintf(rok, miesiac) %>% GetQuery()
}) %>% rbindlist()

wyd <- wydatki_po_cz[, .(wyd = sum(wyd_mld), wyd_plan = sum(wyd_plan_mld)), keyby = rok]

wyd %>%
    Table(
        "html", 
        caption = "Wydatki planowane/zrealizowane oraz deficyt, mld zł",
        digits = 3
    )


# Dochody

dochody <- lapply(lata, function(rok) {
    miesiac <- 12
    if (rok == 2023) miesiac <- MAX_23
    "
    select 
        rok,
        sum(dochody_wykonane)/1e9 doch,
        sum(plan)/1e9 doch_plan
    from trezor.rb27 r 
    left join (
        select distinct on (id_dysp)
        id_dysp,
        id_dysp_nadrz,
        nazwa
        from trezor.slownik_dysponenci
        where date_part('year', to_date(aktywny_od, 'YYYY-MM-DD')) <= %1$s and 
        	(date_part('year', to_date(aktywny_do, 'YYYY-MM-DD')) >= %1$s or aktywny_do = '')
        order by id_dysp, aktywny_od desc
    ) sld
    on r.id_dysp = sld.id_dysp
    where rok = %1$s and miesiac = %2$s and id_dysp_nadrz = 1
    group by rok
    " %>% sprintf(rok, miesiac) %>% GetQuery()
}) %>% rbindlist()

dochody %>%
    Table(
        "html", 
        caption = "Dochody i wydatki planowane/zrealizowane oraz deficyt, mld zł",
        digits = 3
    ) 


# Łącz
doch_wyd <- merge(
    wyd,
    dochody,
    all = TRUE,
    by = "rok"
)

doch_wyd[, deficyt_plan := doch_plan - wyd_plan]
doch_wyd[, deficyt_wyk := doch - wyd]
doch_wyd[, deficyt_roznica := deficyt_wyk - deficyt_plan]

doch_wyd %>%
    Table(
        "html", 
        caption = "Dochody i wydatki planowane/zrealizowane oraz deficyt, mld zł",
        digits = 3
    ) 


doch_wyd[, .(rok, plan = -deficyt_plan+deficyt_wyk, wykonanie = -deficyt_wyk)] %>%
    melt(id.vars = "rok") %>%
    ggplot(aes(x=rok, y = value, fill = variable)) + geom_area() + color_fill +
    labs(x = "Rok", y = "Deficyt, mld zł", fill = "")





wyd_plany <- "SELECT
rok,
sum(case when wersja = 'Projekt ustawy budżetowej – Rada dialogu społecznego' then kwota else 0 end) / 1e6 rds,
sum(case when wersja = 'Rządowy projekt ustawy budżetowej' then kwota else 0 end) / 1e6 projekt,
sum(case when wersja = 'Ustawa budżetowa' then kwota else 0 end) / 1e6 ustawa,
sum(case when wersja = 'Nowelizacja Ustawy budżetowej' then kwota else 0 end) / 1e6 nowela
FROM trezor.ub_wydatki
GROUP BY rok
" %>% GetQuery() %>% 
    merge(
        doch_wyd[, .(rok, wykonane = wyd)],
        all.x = TRUE,
        by = "rok"
    )

wyd_plany %>%
    Table(
        "html", 
        caption = "Wydatki planowane/zrealizowane, mld zł",
        digits = 3
    ) 


doch_plany <- "SELECT
rok,
sum(case when wersja = 'Projekt ustawy budżetowej – Rada dialogu społecznego' then kwota else 0 end) / 1e6 rds,
sum(case when wersja = 'Rządowy projekt ustawy budżetowej' then kwota else 0 end) / 1e6 projekt,
sum(case when wersja = 'Ustawa budżetowa' then kwota else 0 end) / 1e6 ustawa,
sum(case when wersja = 'Nowelizacja Ustawy budżetowej' then kwota else 0 end) / 1e6 nowela
FROM trezor.ub_dochody
GROUP BY rok
" %>% GetQuery() %>% 
    merge(
        doch_wyd[, .(rok, wykonane = doch)],
        all.x = TRUE,
        by = "rok"
    )

doch_plany %>%
    Table(
        "html", 
        caption = "Dochody planowane/zrealizowane, mld zł",
        digits = 3
    )


plany <- merge(
    wyd_plany %>% melt(id.vars = "rok", value.name = "wyd"),
    doch_plany %>% melt(id.vars = "rok", value.name = "doch"),
    all = TRUE,
    by = c("rok", "variable")
)

plany[doch != 0 & wyd != 0, deficyt := doch - wyd]

plany %>% dcast(rok ~ variable, value.var = "deficyt") %>%
    Table(
        "html", 
        caption = "Deficyt wg planów oraz wykonany, mld zł",
        digits = 3
    )





wyd_23_24 <- "SELECT
rok,
czesc,
sum(kwota)/1e6 as wyd_mld
FROM trezor.ub_wydatki
WHERE (rok = 2024 and wersja = 'Projekt ustawy budżetowej – Rada dialogu społecznego') or (rok = 2023 and wersja = 'Nowelizacja Ustawy budżetowej')
GROUP BY rok, czesc
" %>% GetQuery()

slownik_cz <- "
SELECT czesc, opis
FROM trezor.slownik_czesci
where date_part('year', to_date(aktywny_od, 'YYYY-MM-DD')) <= 2023 and 
        	(date_part('year', to_date(aktywny_do, 'YYYY-MM-DD')) >= 2023 or aktywny_do = '')
" %>% GetQuery()

wyd_23_24 <- wyd_23_24 %>% dcast(czesc ~ rok, value.var = "wyd_mld")

wyd_23_24 <- merge(
    wyd_23_24,
    slownik_cz,
    all.x=TRUE
)

wyd_23_24[, prop_24_23 := `2024` / `2023`]
wyd_23_24[, diff_24_23 := `2024` - `2023`]
wyd_23_24[
    order(-diff_24_23),    .(
        czesc, opis,
        `2023`, `2024`, 
        `Różnica` = diff_24_23,
        `Wzrost r/r` = pperc(prop_24_23-1)
    )][1:10] %>%
    Table(
        "html", 
        caption = "Największe różnice między NUB2023 a UB2024 wg części, mld zł",
        digits = 3
    )


slownik_rozdzial <- "
SELECT rozdzial, opis
FROM trezor.slownik_rozdzialy
where date_part('year', to_date(aktywny_od, 'YYYY-MM-DD')) <= 2023 and 
        	(date_part('year', to_date(aktywny_do, 'YYYY-MM-DD')) >= 2023 or aktywny_do = '')
" %>% GetQuery()

slownik_grupa <- "
SELECT nr_grupy, opis
FROM trezor.slownik_grupy_ekonomiczne
where date_part('year', to_date(aktywny_od, 'YYYY-MM-DD')) <= 2023 and 
        	(date_part('year', to_date(aktywny_do, 'YYYY-MM-DD')) >= 2023 or aktywny_do = '')
" %>% GetQuery()


slownik_grupa


roz <- "SELECT
rozdzial, grupa_ekon, 

sum(case when rok = 2023 and wersja = 'Nowelizacja Ustawy budżetowej' then kwota else 0 end) / 1e6 ub_23_nowela,
sum(case when rok = 2024 and wersja = 'Projekt ustawy budżetowej – Rada dialogu społecznego' then kwota else 0 end) / 1e6 ub_24_rds

FROM trezor.ub_wydatki
group by rozdzial, grupa_ekon
" %>% GetQuery()


roz <- merge(
    roz,
    slownik_rozdzial,
    all.x = TRUE
)

roz[
    order(-(ub_24_rds - ub_23_nowela)), 
    .(
        rozdzial, opis, `Grupa` = grupa_ekon, `2023` = ub_23_nowela, `2024` = ub_24_rds, 
        `Różnica` = ub_24_rds - ub_23_nowela,
        `Proporcja różnicy` = pperc((ub_24_rds - ub_23_nowela) / sum(ub_24_rds - ub_23_nowela))
    )
][1:10] %>%
    Table(
        "html", 
        caption = "Największe różnice między NUB2023 a UB2024 wg rozdziałów, mld zł",
        digits = 3
    )


roz <- "SELECT
rozdzial, grupa_ekon, 

sum(case when rok = 2023 and wersja = 'Nowelizacja Ustawy budżetowej' then kwota else 0 end) / 1e6 ub_23_nowela,
sum(case when rok = 2024 and wersja = 'Projekt ustawy budżetowej – Rada dialogu społecznego' then kwota else 0 end) / 1e6 ub_24_rds

FROM trezor.ub_wydatki
where czesc = '73'
group by rozdzial, grupa_ekon
" %>% GetQuery()


roz <- merge(
    roz,
    slownik_rozdzial,
    all.x = TRUE
)

roz[
    order(-(ub_24_rds - ub_23_nowela)), 
    .(
        `Rodział` = rozdzial, opis, `Grupa` = grupa_ekon, 
        `2023` = ub_23_nowela, `2024` = ub_24_rds, `Różnica` = ub_24_rds - ub_23_nowela
    )][1:5] %>%
    Table(
        "html", 
        caption = "Największe różnice między NUB2023 a UB2024 dla cz. 73 wg rozdziałów, mld zł",
        digits = 3
    )


roz <- "SELECT
rozdzial, grupa_ekon, 

sum(case when rok = 2023 and wersja = 'Nowelizacja Ustawy budżetowej' then kwota else 0 end) / 1e6 ub_23_nowela,
sum(case when rok = 2024 and wersja = 'Projekt ustawy budżetowej – Rada dialogu społecznego' then kwota else 0 end) / 1e6 ub_24_rds

FROM trezor.ub_wydatki
where czesc = '29'
group by rozdzial, grupa_ekon
" %>% GetQuery()


roz <- merge(
    roz,
    slownik_rozdzial,
    all.x = TRUE
)

roz[
    order(-(ub_24_rds - ub_23_nowela)), 
    .(
        `Rodział` = rozdzial, opis, `Grupa` = grupa_ekon, 
        `2023` = ub_23_nowela, `2024` = ub_24_rds, `Różnica` = ub_24_rds - ub_23_nowela
    )][1:5] %>%
    Table(
        "html", 
        caption = "Największe różnice między NUB2023 a UB2024 dla cz. 29 wg rozdziałów, mld zł",
        digits = 3
    )


roz <- "SELECT
rozdzial, grupa_ekon, 

sum(case when rok = 2023 and wersja = 'Nowelizacja Ustawy budżetowej' then kwota else 0 end) / 1e6 ub_23_nowela,
sum(case when rok = 2024 and wersja = 'Projekt ustawy budżetowej – Rada dialogu społecznego' then kwota else 0 end) / 1e6 ub_24_rds

FROM trezor.ub_wydatki
where czesc = '46'
group by rozdzial, grupa_ekon
" %>% GetQuery()


roz <- merge(
    roz,
    slownik_rozdzial,
    all.x = TRUE
)

roz[
    order(-(ub_24_rds - ub_23_nowela)), 
    .(
        `Rodział` = rozdzial, opis, `Grupa` = grupa_ekon, 
        `2023` = ub_23_nowela, `2024` = ub_24_rds, `Różnica` = ub_24_rds - ub_23_nowela
    )][1:5] %>%
    Table(
        "html", 
        caption = "Największe różnice między NUB2023 a UB2024 dla cz. 46 wg rozdziałów, mld zł",
        digits = 3
    )


roz <- "SELECT
rozdzial, grupa_ekon, 

sum(case when rok = 2023 and wersja = 'Nowelizacja Ustawy budżetowej' then kwota else 0 end) / 1e6 ub_23_nowela,
sum(case when rok = 2024 and wersja = 'Projekt ustawy budżetowej – Rada dialogu społecznego' then kwota else 0 end) / 1e6 ub_24_rds

FROM trezor.ub_wydatki
where czesc = '72'
group by rozdzial, grupa_ekon
" %>% GetQuery()


roz <- merge(
    roz,
    slownik_rozdzial,
    all.x = TRUE
)

roz[
    order(-(ub_24_rds - ub_23_nowela)), 
    .(
        `Rodział` = rozdzial, opis, `Grupa` = grupa_ekon, 
        `2023` = ub_23_nowela, `2024` = ub_24_rds, `Różnica` = ub_24_rds - ub_23_nowela
    )][1:5] %>%
    Table(
        "html", 
        caption = "Największe różnice między NUB2023 a UB2024 dla cz. 72 wg rozdziałów, mld zł",
        digits = 3
    )



